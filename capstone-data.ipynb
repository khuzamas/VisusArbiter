{
 "cells": [
  {
   "cell_type": "markdown",
   "metadata": {},
   "source": [
    "### Download Data"
   ]
  },
  {
   "cell_type": "code",
   "execution_count": null,
   "metadata": {},
   "outputs": [],
   "source": [
    "pip install SoccerNet"
   ]
  },
  {
   "cell_type": "code",
   "execution_count": 1,
   "metadata": {},
   "outputs": [
    {
     "name": "stderr",
     "output_type": "stream",
     "text": [
      "Downloading path/to/SoccerNet/mvfouls/train.zip...: : 2.46GiB [01:14, 33.1MiB/s]                         \n",
      "Downloading path/to/SoccerNet/mvfouls/valid.zip...: : 351MiB [00:09, 36.0MiB/s]                         \n",
      "Downloading path/to/SoccerNet/mvfouls/test.zip...: : 268MiB [00:20, 12.9MiB/s]                         \n",
      "Downloading path/to/SoccerNet/mvfouls/challenge.zip...: : 246MiB [00:09, 27.2MiB/s]                         \n"
     ]
    }
   ],
   "source": [
    "from SoccerNet.Downloader import SoccerNetDownloader as SNdl\n",
    "\n",
    "mySNdl = SNdl(LocalDirectory=\"./SoccerNet\")\n",
    "mySNdl.downloadDataTask(task=\"mvfouls\", split=[\"train\",\"valid\",\"test\",\"challenge\"], password=\"PASSWORD\")"
   ]
  },
  {
   "cell_type": "markdown",
   "metadata": {},
   "source": [
    "### Read Data"
   ]
  },
  {
   "cell_type": "markdown",
   "metadata": {},
   "source": [
    "Original Video Dimensions\n",
    "\n",
    "398 × 224"
   ]
  },
  {
   "cell_type": "markdown",
   "metadata": {},
   "source": [
    "---"
   ]
  },
  {
   "cell_type": "markdown",
   "metadata": {},
   "source": [
    "### Labels CSV"
   ]
  },
  {
   "cell_type": "markdown",
   "metadata": {},
   "source": [
    "Create data frames with:\n",
    "1. Action Number\n",
    "2. Offence Label\n",
    "3. Foul Type Label\n",
    "\n",
    "Using the following:\n",
    "1. Dictionary of offence\n",
    "2. Dictionary of actions\n",
    "3. Split labels file"
   ]
  },
  {
   "cell_type": "code",
   "execution_count": 60,
   "metadata": {},
   "outputs": [],
   "source": [
    "import numpy as np\n",
    "import pandas as pd"
   ]
  },
  {
   "cell_type": "code",
   "execution_count": 1,
   "metadata": {},
   "outputs": [],
   "source": [
    "action_class = {\n",
    "    0:\"Tackling\", \n",
    "    1:\"Standing tackling\", \n",
    "    2:\"High leg\", \n",
    "    3:\"Holding\", \n",
    "    4:\"Pushing\",\n",
    "    5:\"Elbowing\", \n",
    "    6:\"Challenge\", \n",
    "    7:\"Dive\", \n",
    "    8:\"Dont know\"\n",
    "}"
   ]
  },
  {
   "cell_type": "code",
   "execution_count": 2,
   "metadata": {},
   "outputs": [],
   "source": [
    "offence_class = {\n",
    "    0:\"No offence\", \n",
    "    1:\"Offence + No card\", \n",
    "    2:\"Offence + Yellow card\", \n",
    "    3:\"Offence + Red card\"\n",
    "}"
   ]
  },
  {
   "cell_type": "code",
   "execution_count": 64,
   "metadata": {},
   "outputs": [],
   "source": [
    "def create_labels_csv(split):\n",
    "    split_dict={\n",
    "        'action_number': [],\n",
    "        'offence_severity': [],\n",
    "        'action_class': []\n",
    "    }\n",
    "    action_list= np.load(f'./labels/{split}_labels/number_of_actions.npy')\n",
    "    labels_offence= np.load(f'./labels/{split}_labels/labels_offence.npy')\n",
    "    labels_action= np.load(f'./labels/{split}_labels/labels_action.npy')\n",
    "\n",
    "    for i, action in enumerate(labels_offence):\n",
    "        #print action number\n",
    "        # print(action_list[i])\n",
    "        split_dict['action_number'].append(action_list[i])\n",
    "\n",
    "        # print(action)\n",
    "\n",
    "        offence_index= list(list(action)[0]).index(1)\n",
    "        offence= offence_class[offence_index]\n",
    "\n",
    "        split_dict['offence_severity'].append(offence)\n",
    "        # print('offence label', offence)\n",
    "\n",
    "        action_index= list(list(labels_action[i])[0]).index(1.0)\n",
    "        action_label= action_class[action_index]\n",
    "        split_dict['action_class'].append(action_label)\n",
    "        # print(labels_action[i])\n",
    "        # print('action label', action_label)\n",
    "        # print('--')\n",
    "\n",
    "        df= pd.DataFrame.from_dict(split_dict)\n",
    "\n",
    "    return df\n",
    "    "
   ]
  },
  {
   "cell_type": "code",
   "execution_count": 65,
   "metadata": {},
   "outputs": [],
   "source": [
    "create_labels_csv('train').to_csv('./labels/train_labels/train.csv', index=False)\n",
    "create_labels_csv('valid').to_csv('./labels/valid_labels/valid.csv', index=False)\n",
    "create_labels_csv('test').to_csv('./labels/test_labels/test.csv', index=False)"
   ]
  },
  {
   "cell_type": "markdown",
   "metadata": {},
   "source": [
    "### Read Dataframes"
   ]
  },
  {
   "cell_type": "code",
   "execution_count": null,
   "metadata": {},
   "outputs": [],
   "source": [
    "df_train= pd.read_csv('./labels/train_labels/train.csv')\n",
    "df_val= pd.read_csv('./labels/valid_labels/valid.csv')\n",
    "df_test= pd.read_csv('./labels/test_labels/test.csv')"
   ]
  }
 ],
 "metadata": {
  "kernelspec": {
   "display_name": "base",
   "language": "python",
   "name": "python3"
  },
  "language_info": {
   "codemirror_mode": {
    "name": "ipython",
    "version": 3
   },
   "file_extension": ".py",
   "mimetype": "text/x-python",
   "name": "python",
   "nbconvert_exporter": "python",
   "pygments_lexer": "ipython3",
   "version": "3.11.9"
  }
 },
 "nbformat": 4,
 "nbformat_minor": 2
}
