{
 "cells": [
  {
   "cell_type": "markdown",
   "metadata": {},
   "source": [
    "## **Pipline**"
   ]
  },
  {
   "cell_type": "markdown",
   "metadata": {},
   "source": [
    "1. feature extractor\n",
    "2. offence model\n",
    "3. foul type model\n",
    "4. convert predictions"
   ]
  },
  {
   "cell_type": "code",
   "execution_count": 2,
   "metadata": {},
   "outputs": [],
   "source": [
    "import torch\n",
    "from transformers import pipeline\n",
    "import numpy as np\n",
    "import keras"
   ]
  },
  {
   "cell_type": "code",
   "execution_count": 13,
   "metadata": {},
   "outputs": [],
   "source": [
    "offence_class = {\n",
    "    0:\"No offence\", \n",
    "    1:\"Offence + No card\", \n",
    "    2:\"Offence + Yellow card\", \n",
    "    3:\"Offence + Red card\"\n",
    "}"
   ]
  },
  {
   "cell_type": "code",
   "execution_count": 14,
   "metadata": {},
   "outputs": [],
   "source": [
    "action_class = {\n",
    "    0:\"Tackling\", \n",
    "    1:\"Standing tackling\", \n",
    "    2:\"High leg\", \n",
    "    3:\"Holding\", \n",
    "    4:\"Pushing\",\n",
    "    5:\"Elbowing\", \n",
    "    6:\"Challenge\", \n",
    "    7:\"Dive\", \n",
    "    8:\"Dont know\"\n",
    "}"
   ]
  },
  {
   "cell_type": "markdown",
   "metadata": {},
   "source": [
    "#### **Feature Extractor**\n",
    "input: video\n",
    "\n",
    "output: feature vector"
   ]
  },
  {
   "cell_type": "code",
   "execution_count": 3,
   "metadata": {},
   "outputs": [],
   "source": [
    "#Download model\n",
    "pipe_soccer = pipeline(\"video-classification\", model=\"anirudhmu/videomae-base-finetuned-soccer-action-recognitionx4\")\n",
    "\n",
    "pipe_soccer.model.classifier = torch.nn.Identity() #removes the final layer\n",
    "pipe_soccer.postprocess = lambda x, *a, **k: x.logits #get logits"
   ]
  },
  {
   "cell_type": "code",
   "execution_count": 7,
   "metadata": {},
   "outputs": [],
   "source": [
    "offence_model= keras.models.load_model('./multi_offence_model.keras')\n",
    "foul_model= keras.models.load_model('./multi_foul_model2.keras')"
   ]
  },
  {
   "cell_type": "code",
   "execution_count": 44,
   "metadata": {},
   "outputs": [],
   "source": [
    "def extract(video_path):\n",
    "    action_features=[]\n",
    "    clip_features= pipe_soccer.predict(video_path)\n",
    "    action_features.append(clip_features)\n",
    "\n",
    "    features= np.asarray(action_features)\n",
    "    #prepare data to model\n",
    "    features= np.reshape(features, (1, 768))\n",
    "\n",
    "    #predict\n",
    "    offence_pred= offence_model.predict(features)\n",
    "    foul_pred= foul_model.predict(features)\n",
    "\n",
    "    #offence\n",
    "    offence_max_pred= (offence_pred[0]).max()\n",
    "    offence_max_index= np.argmax(offence_pred[0])\n",
    "\n",
    "    #foul\n",
    "    foul_max_pred= (foul_pred[0]).max()\n",
    "    foul_max_index= np.argmax(foul_pred[0])\n",
    "\n",
    "    predictions={\n",
    "        'offence': [offence_max_pred, offence_class[offence_max_index]],\n",
    "        'foul': [foul_max_pred, action_class[foul_max_index]]\n",
    "    }\n",
    "\n",
    "    return predictions\n",
    "    "
   ]
  },
  {
   "cell_type": "code",
   "execution_count": 42,
   "metadata": {},
   "outputs": [],
   "source": [
    "#prepare data to model\n",
    "features= np.reshape(features, (1, 768))"
   ]
  },
  {
   "cell_type": "markdown",
   "metadata": {},
   "source": [
    "#### **Models Prediction**\n",
    "\n",
    "1. offence model\n",
    "\n",
    "2. foul model"
   ]
  },
  {
   "cell_type": "code",
   "execution_count": 43,
   "metadata": {},
   "outputs": [
    {
     "name": "stdout",
     "output_type": "stream",
     "text": [
      "\u001b[1m1/1\u001b[0m \u001b[32m━━━━━━━━━━━━━━━━━━━━\u001b[0m\u001b[37m\u001b[0m \u001b[1m0s\u001b[0m 44ms/step\n",
      "\u001b[1m1/1\u001b[0m \u001b[32m━━━━━━━━━━━━━━━━━━━━\u001b[0m\u001b[37m\u001b[0m \u001b[1m0s\u001b[0m 67ms/step\n"
     ]
    }
   ],
   "source": [
    "#predict\n",
    "offence_pred= offence_model.predict(features)\n",
    "foul_pred= foul_model.predict(features)"
   ]
  },
  {
   "cell_type": "code",
   "execution_count": 36,
   "metadata": {},
   "outputs": [],
   "source": [
    "#take max 2 classes\n",
    "offence_max_pred= (offence_pred[0]).max()\n",
    "offence_max_index= np.argmax(offence_pred[0])"
   ]
  },
  {
   "cell_type": "code",
   "execution_count": 37,
   "metadata": {},
   "outputs": [],
   "source": [
    "#take max 2 classes\n",
    "foul_max_pred= (foul_pred[0]).max()\n",
    "foul_max_index= np.argmax(foul_pred[0])"
   ]
  },
  {
   "cell_type": "code",
   "execution_count": 38,
   "metadata": {},
   "outputs": [],
   "source": [
    "predictions={\n",
    "    'offence': [offence_max_pred, offence_class[offence_max_index]],\n",
    "    'foul': [foul_max_pred, action_class[foul_max_index]]\n",
    "}"
   ]
  },
  {
   "cell_type": "code",
   "execution_count": 39,
   "metadata": {},
   "outputs": [
    {
     "data": {
      "text/plain": [
       "{'offence': [0.2736536, 'Offence + No card'], 'foul': [0.22497404, 'Elbowing']}"
      ]
     },
     "execution_count": 39,
     "metadata": {},
     "output_type": "execute_result"
    }
   ],
   "source": [
    "predictions"
   ]
  }
 ],
 "metadata": {
  "kernelspec": {
   "display_name": "Python 3",
   "language": "python",
   "name": "python3"
  },
  "language_info": {
   "codemirror_mode": {
    "name": "ipython",
    "version": 3
   },
   "file_extension": ".py",
   "mimetype": "text/x-python",
   "name": "python",
   "nbconvert_exporter": "python",
   "pygments_lexer": "ipython3",
   "version": "3.11.9"
  }
 },
 "nbformat": 4,
 "nbformat_minor": 2
}
